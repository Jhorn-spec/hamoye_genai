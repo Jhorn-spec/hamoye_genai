{
 "cells": [
  {
   "cell_type": "code",
   "execution_count": 125,
   "id": "a3c90fa8-a11a-4d8c-a683-1642bfe01841",
   "metadata": {},
   "outputs": [],
   "source": [
    "from openai import OpenAI\n",
    "import os\n",
    "import pandas as pd\n",
    "from datasets import load_dataset\n",
    "import random\n",
    "import math\n",
    "import numpy as np\n",
    "import seaborn as sns\n",
    "import matplotlib.pyplot as plt\n",
    "from tqdm.auto import tqdm\n",
    "\n",
    "from dotenv import load_dotenv\n",
    "load_dotenv()\n",
    "\n",
    "OPENAI_API_KEY = os.getenv(\"SAM_OPENAI_API_KEY\")\n",
    "client = OpenAI(api_key=OPENAI_API_KEY)\n",
    "SEED = 42\n",
    "\n",
    "random.seed(SEED)"
   ]
  },
  {
   "cell_type": "code",
   "execution_count": null,
   "id": "a9caaf6a-6e8b-4a32-a3bc-36c628c35dca",
   "metadata": {},
   "outputs": [],
   "source": []
  },
  {
   "cell_type": "code",
   "execution_count": 126,
   "id": "afcd4e28-da82-44bf-9184-9b03750ebd0f",
   "metadata": {},
   "outputs": [
    {
     "data": {
      "text/plain": [
       "DatasetDict({\n",
       "    train: Dataset({\n",
       "        features: ['package_name', 'review', 'date', 'star'],\n",
       "        num_rows: 288065\n",
       "    })\n",
       "})"
      ]
     },
     "execution_count": 126,
     "metadata": {},
     "output_type": "execute_result"
    }
   ],
   "source": [
    "# Import the ClassLabel module to represent categorical class labels\n",
    "from datasets import ClassLabel\n",
    "\n",
    "# Loading the 'app reviews' dataset's training split into the dataset variable\n",
    "dataset = load_dataset(\"app_reviews\")\n",
    "\n",
    "# converting the 'star' column in the dataset to a ClassLabel type\n",
    "# This allows for categorical representation and easier handling of classes\n",
    "dataset = dataset.class_encode_column(\"star\")\n",
    "\n",
    "# Displaying the dataset to see the changes\n",
    "dataset"
   ]
  },
  {
   "cell_type": "code",
   "execution_count": 128,
   "id": "a4907a97-5a8c-4cb2-aa2d-22943a0f0ab9",
   "metadata": {},
   "outputs": [
    {
     "data": {
      "text/plain": [
       "DatasetDict({\n",
       "    train: Dataset({\n",
       "        features: ['package_name', 'review', 'date', 'star'],\n",
       "        num_rows: 103703\n",
       "    })\n",
       "    test: Dataset({\n",
       "        features: ['package_name', 'review', 'date', 'star'],\n",
       "        num_rows: 34568\n",
       "    })\n",
       "    validation: Dataset({\n",
       "        features: ['package_name', 'review', 'date', 'star'],\n",
       "        num_rows: 34568\n",
       "    })\n",
       "})"
      ]
     },
     "execution_count": 128,
     "metadata": {},
     "output_type": "execute_result"
    }
   ],
   "source": [
    "# splitting the dataset into a train and test set\n",
    "# reserve 20% of the data for testing and use stratification on the 'star' column\n",
    "# to ensure both sets have equal proportion of each start category\n",
    "dataset = dataset['train'].train_test_split(test_size=0.2, seed=SEED, stratify_by_column=\"star\")\n",
    "\n",
    "# Assign the training and validation sets to their respective keys\n",
    "dataset[\"train\"] = dataset['train']\n",
    "dataset[\"test\"] = dataset['test']\n",
    "\n",
    "# Now, split the training set to reserve 25% of the data for validation\n",
    "df = dataset[\"train\"].train_test_split(test_size=0.25, seed=SEED, stratify_by_column=\"star\")\n",
    "\n",
    "# Assigning the split datasets to their respective keys:\n",
    "# The remaining 75% of the inintial data becomes the new training data\n",
    "dataset[\"train\"] = df[\"train\"]\n",
    "\n",
    "# The remaining 25% of the inintial data becomes the new validation data\n",
    "dataset[\"validation\"] = df[\"test\"]\n",
    "\n",
    "# Displaying the dataset to see the changes\n",
    "dataset"
   ]
  },
  {
   "cell_type": "code",
   "execution_count": 129,
   "id": "b0b2a547-e112-488d-9eca-dfaae644d211",
   "metadata": {},
   "outputs": [
    {
     "data": {
      "text/plain": [
       "Dataset({\n",
       "    features: ['package_name', 'review', 'date', 'star'],\n",
       "    num_rows: 103703\n",
       "})"
      ]
     },
     "execution_count": 129,
     "metadata": {},
     "output_type": "execute_result"
    }
   ],
   "source": [
    "dataset['train']"
   ]
  },
  {
   "cell_type": "code",
   "execution_count": 130,
   "id": "325665a8-d049-46f3-95a8-e9dea9fec00d",
   "metadata": {},
   "outputs": [
    {
     "data": {
      "text/html": [
       "<div>\n",
       "<style scoped>\n",
       "    .dataframe tbody tr th:only-of-type {\n",
       "        vertical-align: middle;\n",
       "    }\n",
       "\n",
       "    .dataframe tbody tr th {\n",
       "        vertical-align: top;\n",
       "    }\n",
       "\n",
       "    .dataframe thead th {\n",
       "        text-align: right;\n",
       "    }\n",
       "</style>\n",
       "<table border=\"1\" class=\"dataframe\">\n",
       "  <thead>\n",
       "    <tr style=\"text-align: right;\">\n",
       "      <th></th>\n",
       "      <th>package_name</th>\n",
       "      <th>review</th>\n",
       "      <th>date</th>\n",
       "      <th>star</th>\n",
       "    </tr>\n",
       "  </thead>\n",
       "  <tbody>\n",
       "    <tr>\n",
       "      <th>0</th>\n",
       "      <td>com.google.android.gms</td>\n",
       "      <td>Giod</td>\n",
       "      <td>March 28 2017</td>\n",
       "      <td>4</td>\n",
       "    </tr>\n",
       "    <tr>\n",
       "      <th>1</th>\n",
       "      <td>com.ringdroid</td>\n",
       "      <td>Allows precision I love taking snippets of mus...</td>\n",
       "      <td>July 09 2015</td>\n",
       "      <td>4</td>\n",
       "    </tr>\n",
       "    <tr>\n",
       "      <th>2</th>\n",
       "      <td>com.google.zxing.client.android</td>\n",
       "      <td>Great application Great application  but i can...</td>\n",
       "      <td>November 23 2015</td>\n",
       "      <td>4</td>\n",
       "    </tr>\n",
       "    <tr>\n",
       "      <th>3</th>\n",
       "      <td>com.google.android.gms</td>\n",
       "      <td>Like</td>\n",
       "      <td>February 18 2017</td>\n",
       "      <td>4</td>\n",
       "    </tr>\n",
       "    <tr>\n",
       "      <th>4</th>\n",
       "      <td>org.telegram.messenger</td>\n",
       "      <td>You are the best You give the real meaning wha...</td>\n",
       "      <td>January 04 2017</td>\n",
       "      <td>4</td>\n",
       "    </tr>\n",
       "  </tbody>\n",
       "</table>\n",
       "</div>"
      ],
      "text/plain": [
       "                      package_name  \\\n",
       "0           com.google.android.gms   \n",
       "1                    com.ringdroid   \n",
       "2  com.google.zxing.client.android   \n",
       "3           com.google.android.gms   \n",
       "4           org.telegram.messenger   \n",
       "\n",
       "                                              review              date  star  \n",
       "0                                               Giod     March 28 2017     4  \n",
       "1  Allows precision I love taking snippets of mus...      July 09 2015     4  \n",
       "2  Great application Great application  but i can...  November 23 2015     4  \n",
       "3                                               Like  February 18 2017     4  \n",
       "4  You are the best You give the real meaning wha...   January 04 2017     4  "
      ]
     },
     "execution_count": 130,
     "metadata": {},
     "output_type": "execute_result"
    }
   ],
   "source": [
    "# Convert to pandas dataframe\n",
    "training_df = pd.DataFrame(dataset['train'])\n",
    "\n",
    "training_df.head()"
   ]
  },
  {
   "cell_type": "code",
   "execution_count": 131,
   "id": "349f9b6b-47e4-4f48-a00e-a300ba102e54",
   "metadata": {},
   "outputs": [
    {
     "data": {
      "text/plain": [
       "91452                                  Gives me everything\n",
       "72477                                              Awesome\n",
       "96772                            Can't log in poor service\n",
       "30300    Love it This is the best way to get the real i...\n",
       "43054                           Useful in the time of need\n",
       "Name: review, dtype: object"
      ]
     },
     "execution_count": 131,
     "metadata": {},
     "output_type": "execute_result"
    }
   ],
   "source": [
    "training_df['review'].sample(5)"
   ]
  },
  {
   "cell_type": "code",
   "execution_count": 132,
   "id": "8b5b72d2-20f7-4c31-bf96-8d12a48a3ec7",
   "metadata": {},
   "outputs": [
    {
     "data": {
      "image/png": "[encoded data removed]",
      "text/plain": [
       "<Figure size 720x432 with 1 Axes>"
      ]
     },
     "metadata": {
      "needs_background": "light"
     },
     "output_type": "display_data"
    }
   ],
   "source": [
    "# Counting the number of occurences for each 'star' value, sorting by index\n",
    "star_counts = training_df['star'].value_counts().sort_index()\n",
    "\n",
    "# creating the bar plot to show the distribution of star ratings given\n",
    "plt.figure(figsize=(10, 6))\n",
    "star_counts.plot(kind='bar', color=sns.color_palette('hls', len(star_counts)))\n",
    "\n",
    "# Adding titles and labels for clarity\n",
    "plt.title('Distribution of Stars Ratings in Training Data', fontsize=15)\n",
    "plt.xlabel('Star Rating', fontsize=12)\n",
    "plt.ylabel('Count', fontsize=12)\n",
    "plt.xticks(rotation=0)\n",
    "\n",
    "# Displaying the plot\n",
    "plt.show()"
   ]
  },
  {
   "cell_type": "code",
   "execution_count": 133,
   "id": "eb161598-6231-4758-8b35-271234756ad9",
   "metadata": {},
   "outputs": [],
   "source": [
    "test_df = pd.DataFrame(dataset['test'])\n",
    "val_df = pd.DataFrame(dataset['validation'])"
   ]
  },
  {
   "cell_type": "markdown",
   "id": "d7f60aa7-819f-4e47-887a-29088914f086",
   "metadata": {},
   "source": [
    "### Sentiment Prediction (Star Column)"
   ]
  },
  {
   "cell_type": "code",
   "execution_count": 134,
   "id": "d3d05935-5d56-4184-b8a8-752f4bf58b1c",
   "metadata": {},
   "outputs": [],
   "source": [
    "# Creating the 'prompt' column in each dataset (train, test, and validation) by adding a seperator '###\\n' to the 'review' column\n",
    "# This seperator is often used in fine-tuning to signal where the prompts ends and the expected output begins.\n",
    "training_df['prompt'] = training_df['review'] + '\\n###\\n'\n",
    "test_df['prompt'] = test_df['review'] + '\\n###\\n'\n",
    "val_df['prompt'] = val_df['review'] + '\\n###\\n'"
   ]
  },
  {
   "cell_type": "code",
   "execution_count": 135,
   "id": "cd110287-ffb6-4ea5-b42c-31ef1566ccf0",
   "metadata": {},
   "outputs": [
    {
     "data": {
      "text/plain": [
       "0                                          Giod\\n###\\n\n",
       "1    Allows precision I love taking snippets of mus...\n",
       "2    Great application Great application  but i can...\n",
       "3                                          Like\\n###\\n\n",
       "4    You are the best You give the real meaning wha...\n",
       "Name: prompt, dtype: object"
      ]
     },
     "execution_count": 135,
     "metadata": {},
     "output_type": "execute_result"
    }
   ],
   "source": [
    "training_df['prompt'].head()"
   ]
  },
  {
   "cell_type": "code",
   "execution_count": 136,
   "id": "1958f30d-66bc-4975-9b17-150d5df03e97",
   "metadata": {},
   "outputs": [],
   "source": [
    "# Converting the 'star' column in each dataset to a string format and storing it in the 'completion' column\n",
    "# The 'completion' column will be used as the target variable for sentiment analysis\n",
    "training_df['completion'] = training_df['star'].astype(str)\n",
    "test_df['completion'] = test_df['star'].astype(str)\n",
    "val_df['completion'] = val_df['star'].astype(str)"
   ]
  },
  {
   "cell_type": "code",
   "execution_count": 137,
   "id": "d67286eb-8347-4eaf-817e-4a889197f66d",
   "metadata": {},
   "outputs": [],
   "source": [
    "# Creating a dataset in JSONL format after dropping duplicates based on the 'prompt`\n",
    "# Random sampling to ensure the data is shuffled\n",
    "training_df.sample(\n",
    "    len(training_df),\n",
    ").drop_duplicates(subset=['prompt'])[['prompt', 'completion']].to_json(\n",
    "    \"app-review-full-train-sentiment-random.jsonl\", orient=\"records\", lines=True\n",
    ")"
   ]
  },
  {
   "cell_type": "code",
   "execution_count": 138,
   "id": "694d8de9-a1f6-49b4-a35c-d861762ecd4e",
   "metadata": {},
   "outputs": [],
   "source": [
    "# Creating another version of the dataset in JSONL format, but this time ordering by the 'completion' column (star rating)\n",
    "# This ordered set might be useful for specific training strategies\n",
    "training_df.sample(\n",
    "    len(training_df)\n",
    ").drop_duplicates(subset=['prompt'])[['prompt', 'completion']].sort_values(by='completion').to_json(\n",
    "    \"app-review-full-train-sentiment-ordered.jsonl\", orient=\"records\", lines=True\n",
    ")"
   ]
  },
  {
   "cell_type": "code",
   "execution_count": 139,
   "id": "a441e9c9-524e-4ddc-9a09-29ad3b395396",
   "metadata": {},
   "outputs": [],
   "source": [
    "# Creating a validation dataset in JSONL format after dropping duplicates based on the 'prompt' column\n",
    "val_df.sample(\n",
    "    len(val_df)\n",
    ").drop_duplicates(subset=['prompt'])[['prompt', 'completion']].to_json(\n",
    "    \"app-review-full-val-sentiment-random.jsonl\", orient=\"records\", lines=True\n",
    ")\n",
    "\n",
    "# Creating a test dataset in JSONL format after dropping duplicates based on the 'prompt' column\n",
    "test_df.sample(\n",
    "    len(test_df),\n",
    ").drop_duplicates(subset=['prompt'])[['prompt', 'completion']].to_json(\n",
    "    \"app-review-full-test-sentiment-random.jsonl\", orient=\"records\", lines=True\n",
    ")"
   ]
  },
  {
   "cell_type": "code",
   "execution_count": 140,
   "id": "3b76dcf8-b363-495f-bd2c-b1c144d4d697",
   "metadata": {},
   "outputs": [
    {
     "data": {
      "text/html": [
       "<div>\n",
       "<style scoped>\n",
       "    .dataframe tbody tr th:only-of-type {\n",
       "        vertical-align: middle;\n",
       "    }\n",
       "\n",
       "    .dataframe tbody tr th {\n",
       "        vertical-align: top;\n",
       "    }\n",
       "\n",
       "    .dataframe thead th {\n",
       "        text-align: right;\n",
       "    }\n",
       "</style>\n",
       "<table border=\"1\" class=\"dataframe\">\n",
       "  <thead>\n",
       "    <tr style=\"text-align: right;\">\n",
       "      <th></th>\n",
       "      <th>package_name</th>\n",
       "      <th>review</th>\n",
       "      <th>date</th>\n",
       "      <th>star</th>\n",
       "      <th>prompt</th>\n",
       "      <th>completion</th>\n",
       "    </tr>\n",
       "  </thead>\n",
       "  <tbody>\n",
       "    <tr>\n",
       "      <th>0</th>\n",
       "      <td>com.google.android.gms</td>\n",
       "      <td>Giod</td>\n",
       "      <td>March 28 2017</td>\n",
       "      <td>4</td>\n",
       "      <td>Giod\\n###\\n</td>\n",
       "      <td>4</td>\n",
       "    </tr>\n",
       "    <tr>\n",
       "      <th>1</th>\n",
       "      <td>com.ringdroid</td>\n",
       "      <td>Allows precision I love taking snippets of mus...</td>\n",
       "      <td>July 09 2015</td>\n",
       "      <td>4</td>\n",
       "      <td>Allows precision I love taking snippets of mus...</td>\n",
       "      <td>4</td>\n",
       "    </tr>\n",
       "    <tr>\n",
       "      <th>2</th>\n",
       "      <td>com.google.zxing.client.android</td>\n",
       "      <td>Great application Great application  but i can...</td>\n",
       "      <td>November 23 2015</td>\n",
       "      <td>4</td>\n",
       "      <td>Great application Great application  but i can...</td>\n",
       "      <td>4</td>\n",
       "    </tr>\n",
       "    <tr>\n",
       "      <th>3</th>\n",
       "      <td>com.google.android.gms</td>\n",
       "      <td>Like</td>\n",
       "      <td>February 18 2017</td>\n",
       "      <td>4</td>\n",
       "      <td>Like\\n###\\n</td>\n",
       "      <td>4</td>\n",
       "    </tr>\n",
       "    <tr>\n",
       "      <th>4</th>\n",
       "      <td>org.telegram.messenger</td>\n",
       "      <td>You are the best You give the real meaning wha...</td>\n",
       "      <td>January 04 2017</td>\n",
       "      <td>4</td>\n",
       "      <td>You are the best You give the real meaning wha...</td>\n",
       "      <td>4</td>\n",
       "    </tr>\n",
       "  </tbody>\n",
       "</table>\n",
       "</div>"
      ],
      "text/plain": [
       "                      package_name  \\\n",
       "0           com.google.android.gms   \n",
       "1                    com.ringdroid   \n",
       "2  com.google.zxing.client.android   \n",
       "3           com.google.android.gms   \n",
       "4           org.telegram.messenger   \n",
       "\n",
       "                                              review              date  star  \\\n",
       "0                                               Giod     March 28 2017     4   \n",
       "1  Allows precision I love taking snippets of mus...      July 09 2015     4   \n",
       "2  Great application Great application  but i can...  November 23 2015     4   \n",
       "3                                               Like  February 18 2017     4   \n",
       "4  You are the best You give the real meaning wha...   January 04 2017     4   \n",
       "\n",
       "                                              prompt completion  \n",
       "0                                        Giod\\n###\\n          4  \n",
       "1  Allows precision I love taking snippets of mus...          4  \n",
       "2  Great application Great application  but i can...          4  \n",
       "3                                        Like\\n###\\n          4  \n",
       "4  You are the best You give the real meaning wha...          4  "
      ]
     },
     "execution_count": 140,
     "metadata": {},
     "output_type": "execute_result"
    }
   ],
   "source": [
    "training_df.head()"
   ]
  },
  {
   "cell_type": "code",
   "execution_count": 141,
   "id": "7518cff8-0112-4c50-96b7-ddb9becb4c7c",
   "metadata": {},
   "outputs": [],
   "source": [
    "def get_data_dict(row, system=''):\n",
    "    return {\n",
    "        \"message\": [\n",
    "            {\"role\": \"system\", \"content\": system},\n",
    "            {\"role\": \"user\", \"content\": row['review']},\n",
    "            {\"role\": \"assistant\", \"content\": str(row['star'])}\n",
    "        ]\n",
    "    }"
   ]
  },
  {
   "cell_type": "markdown",
   "id": "8b52d813-37fb-4e95-971f-1391b7474948",
   "metadata": {},
   "source": [
    "### Using OpenAI's Fine-tuning API"
   ]
  },
  {
   "cell_type": "code",
   "execution_count": 142,
   "id": "ab0d37dd-0753-4551-9d92-3f725444e235",
   "metadata": {},
   "outputs": [],
   "source": [
    "import json"
   ]
  },
  {
   "cell_type": "code",
   "execution_count": 143,
   "id": "3dd6146b-a22e-4282-ba92-f5c5365dc771",
   "metadata": {},
   "outputs": [
    {
     "data": {
      "text/plain": [
       "{'prompt': \"Don't want it can't uninstall won't buy Sony ph again to many compulsory and useless apps\\n###\\n\",\n",
       " 'completion': '0'}"
      ]
     },
     "execution_count": 143,
     "metadata": {},
     "output_type": "execute_result"
    }
   ],
   "source": [
    "# reminder of what the data looks like\n",
    "json.loads(open('app-review-full-train-sentiment-random.jsonl', 'rb').readline())"
   ]
  },
  {
   "cell_type": "code",
   "execution_count": 144,
   "id": "1ded7ac2-c3f5-4bac-88cf-c6fa65fe227e",
   "metadata": {},
   "outputs": [],
   "source": [
    "# Creating a file object for the training dataset with OpenAI's API\n",
    "# The 'file' parameter specifies the path to the training data in JSONL format\n",
    "# The purpose is to set to 'fine-tune', indicating the file's intended use\n",
    "training_file = client.files.create(\n",
    "    file=open(\"app-review-full-train-sentiment-random.jsonl\", 'rb'),\n",
    "    purpose='fine-tune'\n",
    ")\n",
    "\n",
    "# Creating a file object for the validation dataset with OpenAI's API\n",
    "val_file = client.files.create(\n",
    "    file=open(\"app-review-full-val-sentiment-random.jsonl\", 'rb'),\n",
    "    purpose='fine-tune'\n",
    ")"
   ]
  },
  {
   "cell_type": "code",
   "execution_count": 145,
   "id": "991d5ad8-3f7e-49e3-9203-4f10cfd9ddbb",
   "metadata": {},
   "outputs": [],
   "source": [
    "# Initiating the fine-tuning process with OpenAI's API\n",
    "\n",
    "# The openai.FineTune.create method is used to start the training process\n",
    "# Parameters include:\n",
    "# training_file: The ID of the previously uploaded training dataset file \n",
    "# validation_file: The ID of the previously uploaded validation dataset file\n",
    "# model: The base model to be fine-tuned. In this case, 'babbage-002' is used\n",
    "# hyperparameters: A dictionary of hyperparameters to fine-tune. Here, we specify the number of epochs as 1\n",
    "\n",
    "job = client.fine_tuning.jobs.create(\n",
    "    training_file=training_file.id,\n",
    "    validation_file=val_file.id,\n",
    "    model='babbage-002',\n",
    "    hyperparameters={'n_epochs': 1}\n",
    ")"
   ]
  },
  {
   "cell_type": "code",
   "execution_count": 153,
   "id": "9c2adc3f-0c52-467c-8c94-5e38d647d766",
   "metadata": {},
   "outputs": [
    {
     "name": "stdout",
     "output_type": "stream",
     "text": [
      "FineTuningJob(id='ftjob-m31xAv4isCvgZ6cb1Ylqgn8N', created_at=1714125983, error=Error(code=None, message=None, param=None), fine_tuned_model=None, finished_at=None, hyperparameters=Hyperparameters(n_epochs=1, batch_size=55, learning_rate_multiplier=16), model='babbage-002', object='fine_tuning.job', organization_id='org-E4nunpw8wX5pqjTHS9iVvkrv', result_files=[], seed=328366526, status='running', trained_tokens=None, training_file='file-AVmX1gwddXl0xobR1KVlBPih', validation_file='file-YE12XG8eB6KMFQmntpmRgqWo', integrations=[], user_provided_suffix=None, estimated_finish=None)\n"
     ]
    }
   ],
   "source": [
    "# Retrieve details of fine-tuned training job\n",
    "\n",
    "for job in client.fine_tuning.jobs.list(limit=1):\n",
    "    print(job)"
   ]
  },
  {
   "cell_type": "code",
   "execution_count": 1,
   "id": "3208dbc2-4e33-4557-be4d-10e6ab8f7f5f",
   "metadata": {},
   "outputs": [
    {
     "ename": "NameError",
     "evalue": "name 'job' is not defined",
     "output_type": "error",
     "traceback": [
      "\u001b[1;31m---------------------------------------------------------------------------\u001b[0m",
      "\u001b[1;31mNameError\u001b[0m                                 Traceback (most recent call last)",
      "Input \u001b[1;32mIn [1]\u001b[0m, in \u001b[0;36m<cell line: 1>\u001b[1;34m()\u001b[0m\n\u001b[1;32m----> 1\u001b[0m \u001b[43mjob\u001b[49m\u001b[38;5;241m.\u001b[39mstatus\n",
      "\u001b[1;31mNameError\u001b[0m: name 'job' is not defined"
     ]
    }
   ],
   "source": [
    "job.status"
   ]
  },
  {
   "cell_type": "code",
   "execution_count": 155,
   "id": "36df453b-a75d-4ddf-9fba-d48e39801cdf",
   "metadata": {},
   "outputs": [],
   "source": [
    "job = client.fine_tuning.jobs.retrieve(job.id)"
   ]
  },
  {
   "cell_type": "code",
   "execution_count": 159,
   "id": "8b7f59b3-9d99-42c1-a367-c06da07bd40b",
   "metadata": {},
   "outputs": [
    {
     "data": {
      "text/plain": [
       "FineTuningJob(id='ftjob-m31xAv4isCvgZ6cb1Ylqgn8N', created_at=1714125983, error=Error(code=None, message=None, param=None), fine_tuned_model=None, finished_at=None, hyperparameters=Hyperparameters(n_epochs=1, batch_size=55, learning_rate_multiplier=16), model='babbage-002', object='fine_tuning.job', organization_id='org-E4nunpw8wX5pqjTHS9iVvkrv', result_files=[], seed=328366526, status='running', trained_tokens=None, training_file='file-AVmX1gwddXl0xobR1KVlBPih', validation_file='file-YE12XG8eB6KMFQmntpmRgqWo', integrations=[], user_provided_suffix=None, estimated_finish=None)"
      ]
     },
     "execution_count": 159,
     "metadata": {},
     "output_type": "execute_result"
    }
   ],
   "source": [
    "job"
   ]
  },
  {
   "cell_type": "code",
   "execution_count": null,
   "id": "cf65bcf9-ca6e-4ec0-a336-21b9c9950878",
   "metadata": {},
   "outputs": [],
   "source": []
  }
 ],
 "metadata": {
  "kernelspec": {
   "display_name": "Python 3 (ipykernel)",
   "language": "python",
   "name": "python3"
  },
  "language_info": {
   "codemirror_mode": {
    "name": "ipython",
    "version": 3
   },
   "file_extension": ".py",
   "mimetype": "text/x-python",
   "name": "python",
   "nbconvert_exporter": "python",
   "pygments_lexer": "ipython3",
   "version": "3.9.12"
  }
 },
 "nbformat": 4,
 "nbformat_minor": 5
}
